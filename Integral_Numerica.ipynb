{
 "cells": [
  {
   "cell_type": "markdown",
   "metadata": {},
   "source": [
    "# Integral Numérica"
   ]
  },
  {
   "cell_type": "markdown",
   "metadata": {},
   "source": [
    "- [Algoritmo para Integral Definida](#Algoritmo-para-Integral-Definida)\n",
    "- [Atividade Avaliativa](#Atividade-Avaliativa)\n",
    "    - [Projeto 2](#Projeto-2)\n",
    "    - [Projeto 4](#Projeto-4)\n",
    "- [Análise de Erro](#Análise-de-Erro)\n",
    "- [Conclusão](#Conclusão)"
   ]
  },
  {
   "cell_type": "markdown",
   "metadata": {},
   "source": [
    "# Algoritmo para Integral Definida"
   ]
  },
  {
   "cell_type": "code",
   "execution_count": 1,
   "metadata": {},
   "outputs": [
    {
     "name": "stdout",
     "output_type": "stream",
     "text": [
      "Digite a função: np.exp(x-1)\n",
      "Digite o limite inferior: 0\n",
      "Digite o limite superior: 2\n",
      "\n",
      "Integral exata: 2.3504023872876028\n",
      "Erro absoluto: 2.609470847500631e-14\n"
     ]
    }
   ],
   "source": [
    "import numpy as np\n",
    "import scipy.integrate as integrate\n",
    "import scipy.special as special\n",
    "\n",
    "fx = input(\"Digite a função: \")\n",
    "a = float(input(\"Digite o limite inferior: \"))\n",
    "b = float(input(\"Digite o limite superior: \"))\n",
    "\n",
    "f = lambda x: eval(fx)\n",
    "\n",
    "def calc_integral(f, a, b):\n",
    "    res = integrate.quad(f, a, b)\n",
    "    return res\n",
    "\n",
    "res = calc_integral(f, a, b)\n",
    "\n",
    "print(\"\\nIntegral exata:\", res[0])\n",
    "print(\"Erro absoluto:\", res[1])"
   ]
  },
  {
   "cell_type": "markdown",
   "metadata": {},
   "source": [
    "# Atividade Avaliativa"
   ]
  },
  {
   "cell_type": "markdown",
   "metadata": {},
   "source": [
    "## Projeto 2"
   ]
  },
  {
   "cell_type": "markdown",
   "metadata": {},
   "source": [
    "__Fazer um algoritmo para calcular os valores ESQ(n), DIR(n), MED(n), TRAP(n), SIMP(n), para $\\int^{2}_{0}{e^{x-1}}dx$, e usando algum software de programação faça simulações e analise os cometidos para n = 2, 10, 100, 1000.__"
   ]
  },
  {
   "cell_type": "code",
   "execution_count": 2,
   "metadata": {},
   "outputs": [
    {
     "name": "stdout",
     "output_type": "stream",
     "text": [
      "n: 2\n",
      "Regra da soma a esquerda: 1.367879441171442\n",
      "Regra da soma a direita: 3.718281828459045\n",
      "Regra do ponto medio: 2.255251930412762\n",
      "Regra do trapezio: 2.543080634815244\n",
      "Regra de Simpson: 2.351194831880256\n"
     ]
    }
   ],
   "source": [
    "import numpy as np\n",
    "f = lambda x: np.exp(x - 1)\n",
    "n = int(input('n: '))\n",
    "b = 2.0\n",
    "a = 0.0\n",
    "dx = (b - a) / n\n",
    "esquerda = np.linspace(a, b - dx, n)\n",
    "direita = np.linspace(dx, b, n)\n",
    "ponto_medio = np.linspace(dx / 2, b - dx / 2, n)\n",
    "\n",
    "re = np.sum(f(esquerda) * dx)\n",
    "print('Regra da soma a esquerda: %.15f' % round(re, 15))\n",
    "rd = np.sum(f(direita) * dx)\n",
    "print('Regra da soma a direita: %.15f' % round(rd, 15))\n",
    "rm = np.sum(f(ponto_medio) * dx)\n",
    "print('Regra do ponto medio: %.15f' % round(rm, 15))\n",
    "\n",
    "trap = (re + rd) / 2\n",
    "print('Regra do trapezio: %.15f' % round(trap, 15))\n",
    "simp = (2 * rm + trap) / 3\n",
    "print('Regra de Simpson: %.15f' % round(simp, 15))"
   ]
  },
  {
   "cell_type": "markdown",
   "metadata": {},
   "source": [
    "## Projeto 4"
   ]
  },
  {
   "cell_type": "markdown",
   "metadata": {},
   "source": [
    "__Fazer um algoritmo para calcular os valores ESQ(n), DIR(n), MED(n), TRAP(n), SIMP(n), para $\\int^{2}_{0}{(-x^2+4)}dx$, e usando algum software de programação faça simulações e analise os cometidos para n = 2, 10, 100, 1000.__"
   ]
  },
  {
   "cell_type": "code",
   "execution_count": 3,
   "metadata": {},
   "outputs": [
    {
     "name": "stdout",
     "output_type": "stream",
     "text": [
      "n: 2\n",
      "Regra da soma a esquerda: 7.000000000000000\n",
      "Regra da soma a direita: 3.000000000000000\n",
      "Regra do ponto medio: 5.500000000000000\n",
      "Regra do trapezio: 5.000000000000000\n",
      "Regra de Simpson: 5.333333333333333\n"
     ]
    }
   ],
   "source": [
    "import numpy as np\n",
    "f = lambda x: (-x**2 + 4)\n",
    "n = int(input('n: '))\n",
    "b = 2.0\n",
    "a = 0.0\n",
    "dx = (b - a) / n\n",
    "esquerda = np.linspace(a, b - dx, n)\n",
    "direita = np.linspace(dx, b, n)\n",
    "ponto_medio = np.linspace(dx / 2, b - dx / 2, n)\n",
    "\n",
    "re = np.sum(f(esquerda) * dx)\n",
    "print('Regra da soma a esquerda: %.15f' % round(re, 15))\n",
    "rd = np.sum(f(direita) * dx)\n",
    "print('Regra da soma a direita: %.15f' % round(rd, 15))\n",
    "rm = np.sum(f(ponto_medio) * dx)\n",
    "print('Regra do ponto medio: %.15f' % round(rm, 15))\n",
    "\n",
    "trap = (re + rd) / 2\n",
    "print('Regra do trapezio: %.15f' % round(trap, 15))\n",
    "simp = (2 * rm + trap) / 3\n",
    "print('Regra de Simpson: %.15f' % round(simp, 15))"
   ]
  },
  {
   "cell_type": "markdown",
   "metadata": {},
   "source": [
    "## Análise de Erro"
   ]
  },
  {
   "cell_type": "markdown",
   "metadata": {},
   "source": [
    "## Representação Gráfica"
   ]
  },
  {
   "cell_type": "code",
   "execution_count": 4,
   "metadata": {},
   "outputs": [],
   "source": [
    "%matplotlib inline"
   ]
  },
  {
   "cell_type": "code",
   "execution_count": 5,
   "metadata": {},
   "outputs": [],
   "source": [
    "import matplotlib.pyplot as plt\n",
    "\n",
    "plt.rcParams['figure.figsize'] = [15, 15]"
   ]
  },
  {
   "cell_type": "code",
   "execution_count": 6,
   "metadata": {},
   "outputs": [
    {
     "name": "stdout",
     "output_type": "stream",
     "text": [
      "n: 2\n"
     ]
    },
    {
     "data": {
      "image/png": "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\n",
      "text/plain": [
       "<Figure size 1080x1080 with 1 Axes>"
      ]
     },
     "metadata": {
      "needs_background": "light"
     },
     "output_type": "display_data"
    }
   ],
   "source": [
    "import numpy as np\n",
    "import matplotlib.pyplot as plt\n",
    "\n",
    "f = lambda x: np.exp(x - 1)\n",
    "n = int(input('n: '))\n",
    "b = 2.0\n",
    "a = 0.0\n",
    "\n",
    "x = np.linspace(a, b, 1000)\n",
    "y = np.exp(x - 1)\n",
    "\n",
    "fig, ax = plt.subplots()\n",
    "plt.grid()\n",
    "ax.plot(x, y, color='red',label='Definida')\n",
    "\n",
    "n = np.linspace(a, b, n + 1)\n",
    "plt.plot(n,f(n),color='blue', label='Trapézio')\n",
    "\n",
    "for i in range(1,len(n)):\n",
    "    c = n[i-1]\n",
    "    d = n[i]\n",
    "    plt.plot([c,c],[0,f(c)],color='green')\n",
    "    plt.plot([d,d],[0,f(c)],color='green')\n",
    "    if i == 1:\n",
    "        plt.plot([c,d],[f(c),f(c)],color='green', label='Esquerda')\n",
    "    else:\n",
    "        plt.plot([c,d],[f(c),f(c)],color='green')\n",
    "\n",
    "for i in range(1,len(n)):\n",
    "    c = n[i-1]\n",
    "    d = n[i]\n",
    "    plt.plot([c,c],[0,f((c+d)/2)],color='orange')\n",
    "    plt.plot([d,d],[0,f(d)],color='orange')\n",
    "    if i == 1:\n",
    "        plt.plot([c,d],[f((c+d)/2),f((c+d)/2)],color='orange', label='Ponto Médio')\n",
    "    else:\n",
    "        plt.plot([c,d],[f((c+d)/2),f((c+d)/2)],color='orange')\n",
    "\n",
    "for i in range(1,len(n)):\n",
    "    c = n[i-1]\n",
    "    d = n[i]\n",
    "    plt.plot([c,c],[0,f(d)],color='black')\n",
    "    plt.plot([d,d],[0,f(d)],color='black')\n",
    "    if i == 1:\n",
    "        plt.plot([c,d],[f(d),f(d)],color='black', label='Direita')\n",
    "    else:\n",
    "        plt.plot([c,d],[f(d),f(d)],color='black')\n",
    "\n",
    "plt.legend()\n",
    "plt.show()"
   ]
  },
  {
   "cell_type": "markdown",
   "metadata": {},
   "source": [
    "## Erro Absoluto e Relativo"
   ]
  },
  {
   "cell_type": "code",
   "execution_count": 7,
   "metadata": {},
   "outputs": [
    {
     "name": "stdout",
     "output_type": "stream",
     "text": [
      "Digite a função: np.exp(x-1)\n",
      "Digite o limite inferior: 0\n",
      "Digite o limite superior: 2\n",
      "------------------------------------------------------------ \n",
      "TABELA DE RESULTADOS\n",
      "\n",
      "  Modelo         2        10       100      1000\n",
      "0    ESQ  1.367879  2.123192  2.326977  2.348053\n",
      "1    DIR  3.718282  2.593272  2.373985  2.352754\n",
      "2    MED  2.255252  2.346490  2.350363  2.350402\n",
      "3    TRA  2.543081  2.358232  2.350481  2.350403\n",
      "4    SIM  2.351195  2.350404  2.350402  2.350402\n",
      "5    EXA  2.350402  2.350402  2.350402  2.350402\n",
      "------------------------------------------------------------ \n",
      "TABELA DE ERROS ABSOLUTOS\n",
      "\n",
      "  Modelo         2        10           100          1000\n",
      "0    ESQ  0.982523  0.227211  2.342568e-02  2.349619e-03\n",
      "1    DIR -1.367879 -0.242870 -2.358237e-02 -2.351186e-03\n",
      "2    MED  0.095150  0.003913  3.917292e-05  3.917337e-07\n",
      "3    TRA -0.192678 -0.007829 -7.834622e-05 -7.834674e-07\n",
      "4    SIM -0.000792 -0.000001 -1.305760e-10 -1.332268e-14\n",
      "------------------------------------------------------------ \n",
      "TABELA DE ERROS RELATIVOS\n",
      "\n",
      "  Modelo          2         10           100          1000\n",
      "0    ESQ  41.802329   9.666889  9.966667e-01  9.996667e-02\n",
      "1    DIR -58.197671 -10.333111 -1.003333e+00 -1.000333e-01\n",
      "2    MED   4.048262   0.166472  1.666647e-03  1.666666e-05\n",
      "3    TRA  -8.197671  -0.333111 -3.333311e-03 -3.333333e-05\n",
      "4    SIM  -0.033715  -0.000055 -5.555474e-09 -5.668253e-13\n"
     ]
    }
   ],
   "source": [
    "import numpy as np\n",
    "import pandas as pd\n",
    "import math\n",
    "import scipy.integrate as integrate\n",
    "import scipy.special as special\n",
    "\n",
    "fx = input(\"Digite a função: \")\n",
    "a = float(input(\"Digite o limite inferior: \"))\n",
    "b = float(input(\"Digite o limite superior: \"))\n",
    "\n",
    "n = [2, 10, 100, 1000]\n",
    "\n",
    "f = lambda x: eval(fx)\n",
    "\n",
    "res2 = []\n",
    "res10 = []\n",
    "res100 = []\n",
    "res1000 = []\n",
    "\n",
    "for i in range(0, len(n)):\n",
    "    dx = (b - a) / n[i]\n",
    "    esquerda = np.linspace(a, b - dx, n[i])\n",
    "    direita = np.linspace(dx, b, n[i])\n",
    "    ponto_medio = np.linspace(dx / 2, b - dx / 2, n[i])\n",
    "\n",
    "    re = np.sum(f(esquerda) * dx) #Soma a esquerda\n",
    "    rd = np.sum(f(direita) * dx) #Soma a direita\n",
    "    rm = np.sum(f(ponto_medio) * dx) #Ponto Médio\n",
    "    trap = (re + rd) / 2 #Trapézio\n",
    "    simp = (2 * rm + trap) / 3 #Simpson\n",
    "    exata = integrate.quad(f, a, b) #Exata\n",
    "    exata = exata[0] #Exata, desconsiderando erro\n",
    "    \n",
    "    if n[i] == 2:\n",
    "        res2.extend([re,rd,rm,trap,simp,exata])\n",
    "    elif n[i] == 10:\n",
    "        res10.extend([re,rd,rm,trap,simp,exata])\n",
    "    elif n[i] == 100:\n",
    "        res100.extend([re,rd,rm,trap,simp,exata])\n",
    "    elif n[i] == 1000:\n",
    "        res1000.extend([re,rd,rm,trap,simp,exata])\n",
    "\n",
    "tab_res = pd.DataFrame({\"Modelo\": ['ESQ','DIR','MED','TRA','SIM','EXA'],\n",
    "                   \"2\": [res2[0], res2[1], res2[2], res2[3], res2[4], res2[5]],\n",
    "                   \"10\": [res10[0], res10[1], res10[2], res10[3], res10[4], res10[5]],\n",
    "                   \"100\": [res100[0], res100[1], res100[2], res100[3], res100[4], res100[5]],\n",
    "                   \"1000\": [res1000[0], res1000[1], res1000[2], res1000[3], res1000[4], res1000[5]]})\n",
    "print('-'*60,\"\\nTABELA DE RESULTADOS\\n\")\n",
    "print(tab_res)\n",
    "\n",
    "abs2 = []\n",
    "abs10 = []\n",
    "abs100 = []\n",
    "abs1000 = []\n",
    "\n",
    "for i in range(0, 5):\n",
    "    abs2.append(res2[5] - res2[i])\n",
    "    abs10.append(res10[5] - res10[i])\n",
    "    abs100.append(res100[5] - res100[i])\n",
    "    abs1000.append(res1000[5] - res1000[i])\n",
    "    \n",
    "tab_abs = pd.DataFrame({\"Modelo\": ['ESQ','DIR','MED','TRA','SIM'],\n",
    "                   \"2\": [abs2[0], abs2[1], abs2[2], abs2[3], abs2[4]],\n",
    "                   \"10\": [abs10[0], abs10[1], abs10[2], abs10[3], abs10[4]],\n",
    "                   \"100\": [abs100[0], abs100[1], abs100[2], abs100[3], abs100[4]],\n",
    "                   \"1000\": [abs1000[0], abs1000[1], abs1000[2], abs1000[3], abs1000[4]]})\n",
    "print('-'*60,\"\\nTABELA DE ERROS ABSOLUTOS\\n\")\n",
    "print(tab_abs)\n",
    "\n",
    "rel2 = []\n",
    "rel10 = []\n",
    "rel100 = []\n",
    "rel1000 = []\n",
    "\n",
    "for i in range(0, 5):\n",
    "    rel2.append(abs2[i] / res2[5] * 100)\n",
    "    rel10.append(abs10[i] / res10[5] * 100)\n",
    "    rel100.append(abs100[i] / res100[5] * 100)\n",
    "    rel1000.append(abs1000[i] / res1000[5] * 100)\n",
    "    \n",
    "tab_rel = pd.DataFrame({\"Modelo\": ['ESQ','DIR','MED','TRA','SIM'],\n",
    "                   \"2\": [rel2[0], rel2[1], rel2[2], rel2[3], rel2[4]],\n",
    "                   \"10\": [rel10[0], rel10[1], rel10[2], rel10[3], rel10[4]],\n",
    "                   \"100\": [rel100[0], rel100[1], rel100[2], rel100[3], rel100[4]],\n",
    "                   \"1000\": [rel1000[0], rel1000[1], rel1000[2], rel1000[3], rel1000[4]]})\n",
    "print('-'*60,\"\\nTABELA DE ERROS RELATIVOS\\n\")\n",
    "print(tab_rel)"
   ]
 ],
 "metadata": {
  "kernelspec": {
   "display_name": "Python 3",
   "language": "python",
   "name": "python3"
  },
  "language_info": {
   "codemirror_mode": {
    "name": "ipython",
    "version": 3
   },
   "file_extension": ".py",
   "mimetype": "text/x-python",
   "name": "python",
   "nbconvert_exporter": "python",
   "pygments_lexer": "ipython3",
   "version": "3.7.1"
  }
 },
 "nbformat": 4,
 "nbformat_minor": 2
}
